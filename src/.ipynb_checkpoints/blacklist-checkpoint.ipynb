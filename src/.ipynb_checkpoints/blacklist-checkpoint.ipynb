{
 "cells": [
  {
   "cell_type": "code",
   "execution_count": 1,
   "id": "3f53b0d9-16e7-4299-8894-b63f51408887",
   "metadata": {},
   "outputs": [],
   "source": [
    "import pandas as pd"
   ]
  },
  {
   "cell_type": "code",
   "execution_count": 8,
   "id": "fba20b1c-cd22-4f74-9184-06f574f77f28",
   "metadata": {},
   "outputs": [
    {
     "name": "stdout",
     "output_type": "stream",
     "text": [
      "Merged Blacklist SubCodes: ['C0301', 'H0611', 'H2804', 'H0113', 'C1904', 'C1909', 'H3407', 'H1004', 'H2208', 'H2805', 'H3012', 'H1007', 'C1701', 'H3102', 'H2809', 'H1010', 'H1309', 'C1312', 'C1613', 'H1404', 'H2501', 'H1707', 'C0405', 'H3408', 'H3204', 'C0909', 'C1611', 'H2711', 'H0605', 'H1507', 'H3101', 'C1607', 'H2303', 'H2801', 'H3411', 'H1008', 'H0418', 'H3201', 'C0607', 'H0417', 'H0422', 'C0306', 'C0312', 'C0101', 'H3207', 'C0908', 'C1902', 'C0910', 'H1011', 'C2009', 'H3120', 'H2502', 'H3410', 'H2003', 'H3513', 'C0208', 'H1903', 'H2605', 'H2813', 'H1509', 'C1614', 'H0106', 'H2808', 'H1003', 'C0914', 'H0315', 'H2604', 'C1505', 'H1206', 'H3109', 'H0210', 'H3412', 'H2802', 'H3404', 'H3104', 'H0420', 'H1508', 'H0218', 'C1612', 'H3118', 'H3007', 'H1506', 'H0908', 'C1511', 'C1507', 'H2814', 'H0314', 'H1009', 'H3014', 'H0208', 'H0610', 'H3303', 'H1705', 'H3409', 'H3302', 'C0201', 'H2812', 'C0304', 'C1604', 'H0506', 'H2606', 'H1814', 'C0606', 'H0511', 'C1609', 'H2806', 'H0114', 'H0419', 'H1308', 'C0402', 'C0305', 'H1005', 'H0905', 'H1505', 'H3114', 'H0816', 'H3206', 'H0603', 'H3205', 'H0104', 'H0412', 'C1301', 'H2402', 'H0903', 'C1307', 'H1503', 'C1303', 'H2209', 'H0904', 'H0915', 'H1706', 'C1608', 'H2811', 'H1402', 'H3105', 'C1610', 'H0105', 'H0303', 'H0510', 'H1006', 'H0112', 'C0313', 'H0913', 'H3103', 'H0204', 'C0302', 'C1702', 'H0509', 'H0508', 'H3009', 'H2603', 'C1601', 'H3202', 'C1502', 'H0220', 'H1403', 'H0902', 'H1504', 'H1301', 'C1509', 'C0308', 'H1401', 'H3119', 'H0507', 'H2803', 'H0108', 'C0307', 'H3219', 'H1406', 'H3107', 'H3208', 'H3106', 'C1703', 'C1006', 'H3121', 'H2504', 'C1302', 'C1603', 'H2807', 'C1306', 'H3301', 'H1405', 'H3008']\n"
     ]
    }
   ],
   "source": [
    "# 读取 subcodes_C 文件\n",
    "df_c = pd.read_excel('blacklist/subcodes_C.xlsx', header=1)\n",
    "\n",
    "# 读取 subcodes_H 文件\n",
    "df_h = pd.read_excel('blacklist/subcodes_H.xlsx', header=1)\n",
    "\n",
    "# 将两个文件转换为 CSV\n",
    "df_c.to_csv('output_C.csv', index=False)\n",
    "df_h.to_csv('output_H.csv', index=False)\n",
    "\n",
    "# 提取黑名单的 subCode\n",
    "blacklist_subcodes_c = df_c[df_c['is_blacklisted'] == 1]['subCode'].tolist()\n",
    "blacklist_subcodes_h = df_h[df_h['is_blacklisted'] == 1]['subCode'].tolist()\n",
    "\n",
    "# 合并两个黑名单 subCode 数组\n",
    "merged_blacklist_subcodes = list(set(blacklist_subcodes_c + blacklist_subcodes_h))\n",
    "\n",
    "# 打印合并后的黑名单 subCode 数组\n",
    "print(\"Merged Blacklist SubCodes:\", merged_blacklist_subcodes)\n",
    "\n",
    "# 将合并后的黑名单 subCode 保存到文本文件\n",
    "with open('merged_blacklist_subcodes.txt', 'w') as f:\n",
    "    f.write(str(merged_blacklist_subcodes))"
   ]
  },
  {
   "cell_type": "code",
   "execution_count": null,
   "id": "0148f2a2-8279-4d91-858a-d7517f941ea1",
   "metadata": {},
   "outputs": [],
   "source": []
  }
 ],
 "metadata": {
  "kernelspec": {
   "display_name": "AI",
   "language": "python",
   "name": "ai"
  },
  "language_info": {
   "codemirror_mode": {
    "name": "ipython",
    "version": 3
   },
   "file_extension": ".py",
   "mimetype": "text/x-python",
   "name": "python",
   "nbconvert_exporter": "python",
   "pygments_lexer": "ipython3",
   "version": "3.9.6"
  }
 },
 "nbformat": 4,
 "nbformat_minor": 5
}
