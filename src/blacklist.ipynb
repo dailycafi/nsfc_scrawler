{
 "cells": [
  {
   "cell_type": "code",
   "execution_count": 2,
   "id": "3f53b0d9-16e7-4299-8894-b63f51408887",
   "metadata": {},
   "outputs": [],
   "source": [
    "import pandas as pd"
   ]
  },
  {
   "cell_type": "code",
   "execution_count": 8,
   "id": "fba20b1c-cd22-4f74-9184-06f574f77f28",
   "metadata": {},
   "outputs": [
    {
     "name": "stdout",
     "output_type": "stream",
     "text": [
      "Merged Blacklist SubCodes: ['C0301', 'H0611', 'H2804', 'H0113', 'C1904', 'C1909', 'H3407', 'H1004', 'H2208', 'H2805', 'H3012', 'H1007', 'C1701', 'H3102', 'H2809', 'H1010', 'H1309', 'C1312', 'C1613', 'H1404', 'H2501', 'H1707', 'C0405', 'H3408', 'H3204', 'C0909', 'C1611', 'H2711', 'H0605', 'H1507', 'H3101', 'C1607', 'H2303', 'H2801', 'H3411', 'H1008', 'H0418', 'H3201', 'C0607', 'H0417', 'H0422', 'C0306', 'C0312', 'C0101', 'H3207', 'C0908', 'C1902', 'C0910', 'H1011', 'C2009', 'H3120', 'H2502', 'H3410', 'H2003', 'H3513', 'C0208', 'H1903', 'H2605', 'H2813', 'H1509', 'C1614', 'H0106', 'H2808', 'H1003', 'C0914', 'H0315', 'H2604', 'C1505', 'H1206', 'H3109', 'H0210', 'H3412', 'H2802', 'H3404', 'H3104', 'H0420', 'H1508', 'H0218', 'C1612', 'H3118', 'H3007', 'H1506', 'H0908', 'C1511', 'C1507', 'H2814', 'H0314', 'H1009', 'H3014', 'H0208', 'H0610', 'H3303', 'H1705', 'H3409', 'H3302', 'C0201', 'H2812', 'C0304', 'C1604', 'H0506', 'H2606', 'H1814', 'C0606', 'H0511', 'C1609', 'H2806', 'H0114', 'H0419', 'H1308', 'C0402', 'C0305', 'H1005', 'H0905', 'H1505', 'H3114', 'H0816', 'H3206', 'H0603', 'H3205', 'H0104', 'H0412', 'C1301', 'H2402', 'H0903', 'C1307', 'H1503', 'C1303', 'H2209', 'H0904', 'H0915', 'H1706', 'C1608', 'H2811', 'H1402', 'H3105', 'C1610', 'H0105', 'H0303', 'H0510', 'H1006', 'H0112', 'C0313', 'H0913', 'H3103', 'H0204', 'C0302', 'C1702', 'H0509', 'H0508', 'H3009', 'H2603', 'C1601', 'H3202', 'C1502', 'H0220', 'H1403', 'H0902', 'H1504', 'H1301', 'C1509', 'C0308', 'H1401', 'H3119', 'H0507', 'H2803', 'H0108', 'C0307', 'H3219', 'H1406', 'H3107', 'H3208', 'H3106', 'C1703', 'C1006', 'H3121', 'H2504', 'C1302', 'C1603', 'H2807', 'C1306', 'H3301', 'H1405', 'H3008']\n"
     ]
    }
   ],
   "source": [
    "# 读取 subcodes_C 文件\n",
    "df_c = pd.read_excel('blacklist/subcodes_C.xlsx', header=1)\n",
    "\n",
    "# 读取 subcodes_H 文件\n",
    "df_h = pd.read_excel('blacklist/subcodes_H.xlsx', header=1)\n",
    "\n",
    "# 将两个文件转换为 CSV\n",
    "df_c.to_csv('output_C.csv', index=False)\n",
    "df_h.to_csv('output_H.csv', index=False)\n",
    "\n",
    "# 提取黑名单的 subCode\n",
    "blacklist_subcodes_c = df_c[df_c['is_blacklisted'] == 1]['subCode'].tolist()\n",
    "blacklist_subcodes_h = df_h[df_h['is_blacklisted'] == 1]['subCode'].tolist()\n",
    "\n",
    "# 合并两个黑名单 subCode 数组\n",
    "merged_blacklist_subcodes = list(set(blacklist_subcodes_c + blacklist_subcodes_h))\n",
    "\n",
    "# 打印合并后的黑名单 subCode 数组\n",
    "print(\"Merged Blacklist SubCodes:\", merged_blacklist_subcodes)\n",
    "\n",
    "# 将合并后的黑名单 subCode 保存到文本文件\n",
    "with open('merged_blacklist_subcodes.txt', 'w') as f:\n",
    "    f.write(str(merged_blacklist_subcodes))"
   ]
  },
  {
   "cell_type": "code",
   "execution_count": 7,
   "id": "0148f2a2-8279-4d91-858a-d7517f941ea1",
   "metadata": {},
   "outputs": [
    {
     "name": "stdout",
     "output_type": "stream",
     "text": [
      "Columns in df_c: ['mainCode', 'mainName', 'subCode', 'subName', 'is_blacklisted']\n",
      "Columns in df_h: ['mainCode', 'mainName', 'subCode', 'subName', 'is_blacklisted']\n",
      "Merged Blacklist SubCodes: ['C1703', 'H1707', 'H2603', 'H0507', 'C0312', 'C1601', 'H2208', 'H3219', 'C1306', 'H0603', 'H3102', 'C1302', 'H1402', 'C2009', 'H1508', 'C0201', 'H0422', 'H1206', 'H0218', 'C1608', 'H2003', 'H2502', 'H1010', 'H1309', 'H1504', 'H2809', 'C0305', 'H2808', 'H2805', 'H1705', 'H0303', 'H2803', 'H0314', 'H2711', 'H0210', 'H3008', 'C0405', 'H1008', 'H0508', 'H3202', 'C0308', 'C0313', 'C1607', 'C0910', 'H0510', 'H1007', 'H3118', 'C1312', 'C1902', 'C0208', 'H3120', 'H3204', 'H3105', 'C1505', 'H0208', 'H1401', 'H3012', 'C0606', 'H2606', 'C0402', 'H0509', 'H3404', 'H0417', 'H3106', 'H1406', 'C1509', 'H3114', 'H2812', 'H0913', 'C0307', 'H0902', 'H0908', 'H0112', 'H1003', 'C0302', 'C1006', 'H0419', 'H0220', 'H1403', 'H2402', 'C1307', 'H0420', 'C1511', 'H1308', 'H1005', 'H0905', 'H3007', 'H3301', 'H0113', 'C0909', 'C1303', 'H3302', 'H3206', 'H3411', 'H1503', 'H2814', 'H1505', 'H3412', 'C1702', 'H1507', 'C0304', 'H3303', 'H0611', 'H0915', 'C1604', 'C1603', 'H2801', 'H3408', 'H1006', 'H0816', 'C1613', 'H2303', 'H2811', 'C1301', 'H2806', 'H3103', 'C1614', 'H2504', 'H0105', 'H3101', 'H1706', 'H1814', 'H3208', 'H1404', 'C1904', 'H0605', 'C0908', 'C1610', 'H2604', 'H2802', 'H0315', 'H3513', 'H3407', 'C1502', 'H2804', 'H3104', 'H1506', 'H2209', 'H1301', 'C1507', 'H3109', 'H0903', 'C0607', 'C1611', 'H1009', 'H1509', 'C0914', 'H0106', 'H1004', 'H1405', 'H1011', 'H3119', 'H0418', 'H3121', 'H2501', 'H0610', 'H3207', 'C1612', 'H0511', 'H2813', 'H3410', 'H3409', 'H3205', 'H0412', 'C1609', 'C0301', 'H3014', 'H0108', 'H2807', 'H3201', 'C1701', 'H2605', 'H0204', 'H3009', 'H0104', 'H0114', 'C1909', 'C0101', 'C0306', 'H0904', 'H3107', 'H1903', 'H0506']\n",
      "    mainCode mainName subCode         subName\n",
      "0        C01     微生物学   C0102        微生物生理与生化\n",
      "1        C01     微生物学   C0103        微生物组学与代谢\n",
      "2        C01     微生物学   C0104      微生物遗传与生物合成\n",
      "3        C01     微生物学   C0105     微生物学新技术与新方法\n",
      "4        C01     微生物学   C0106        微生物与环境互作\n",
      "..       ...      ...     ...             ...\n",
      "402      H35      药理学   H3508     消化与呼吸系统药物药理\n",
      "403      H35      药理学   H3509  血液、泌尿与生殖系统药物药理\n",
      "404      H35      药理学   H3510      药物代谢与药物动力学\n",
      "405      H35      药理学   H3511            临床药理\n",
      "406      H35      药理学   H3512            药物毒理\n",
      "\n",
      "[407 rows x 4 columns]\n"
     ]
    }
   ],
   "source": [
    "# 读取 subcodes_C 文件\n",
    "df_c = pd.read_excel('../blacklist/subcodes_C.xlsx', header=1)\n",
    "\n",
    "# 读取 subcodes_H 文件\n",
    "df_h = pd.read_excel('../blacklist/subcodes_H.xlsx', header=1)\n",
    "\n",
    "# 打印列名以确认\n",
    "print(\"Columns in df_c:\", df_c.columns.tolist())\n",
    "print(\"Columns in df_h:\", df_h.columns.tolist())\n",
    "\n",
    "# 提取黑名单的 subCode\n",
    "blacklist_subcodes_c = df_c[df_c['is_blacklisted'] == 1]['subCode'].tolist()\n",
    "blacklist_subcodes_h = df_h[df_h['is_blacklisted'] == 1]['subCode'].tolist()\n",
    "\n",
    "# 合并两个黑名单 subCode 数组\n",
    "merged_blacklist_subcodes = list(set(blacklist_subcodes_c + blacklist_subcodes_h))\n",
    "\n",
    "# 打印合并后的黑名单 subCode 数组\n",
    "print(\"Merged Blacklist SubCodes:\", merged_blacklist_subcodes)\n",
    "\n",
    "# 将合并后的黑名单 subCode 保存到文本文件\n",
    "with open('merged_blacklist_subcodes.txt', 'w') as f:\n",
    "    f.write(str(merged_blacklist_subcodes))\n",
    "\n",
    "# 过滤掉黑名单中的 subCode\n",
    "df_c_filtered = df_c[~df_c['subCode'].isin(merged_blacklist_subcodes)]\n",
    "df_h_filtered = df_h[~df_h['subCode'].isin(merged_blacklist_subcodes)]\n",
    "\n",
    "# 选择需要的列 - 根据实际列名调整\n",
    "df_c_output = df_c_filtered[['mainCode', 'mainName', 'subCode', 'subName']]\n",
    "df_h_output = df_h_filtered[['mainCode', 'mainName', 'subCode', 'subName']]\n",
    "\n",
    "# 合并两个数据框\n",
    "df_merged = pd.concat([df_c_output, df_h_output], ignore_index=True)\n",
    "\n",
    "# 保存为 CSV\n",
    "df_merged.to_csv('../keywords/filtered_subcodes.csv', index=False)\n",
    "\n",
    "# 打印结果以供确认\n",
    "print(df_merged)"
   ]
  },
  {
   "cell_type": "code",
   "execution_count": null,
   "id": "b17aa9e2-aa4e-4a39-9ea8-99378644c38c",
   "metadata": {},
   "outputs": [],
   "source": []
  }
 ],
 "metadata": {
  "kernelspec": {
   "display_name": "AI",
   "language": "python",
   "name": "ai"
  },
  "language_info": {
   "codemirror_mode": {
    "name": "ipython",
    "version": 3
   },
   "file_extension": ".py",
   "mimetype": "text/x-python",
   "name": "python",
   "nbconvert_exporter": "python",
   "pygments_lexer": "ipython3",
   "version": "3.9.6"
  }
 },
 "nbformat": 4,
 "nbformat_minor": 5
}
